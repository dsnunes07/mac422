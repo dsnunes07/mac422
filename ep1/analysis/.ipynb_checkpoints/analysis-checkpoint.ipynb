{
 "cells": [
  {
   "cell_type": "markdown",
   "metadata": {},
   "source": [
    "# MAC0422 - Sistemas Operacionais\n",
    "\n",
    "### Análise de resultados do EP1"
   ]
  },
  {
   "cell_type": "markdown",
   "metadata": {},
   "source": [
    "Esse notebook contém código útil para gerar arquivos de trace significativamente grandes para serem testados no simulador do EP1.\n",
    "\n",
    "Também apresenta a implementação de análises e elaboração dos gráficos a partir dos resultados obtidos por cada um dos processos de escalonamento."
   ]
  },
  {
   "cell_type": "code",
   "execution_count": 114,
   "metadata": {},
   "outputs": [],
   "source": [
    "import numpy as np\n",
    "import time\n",
    "import os\n",
    "import sys\n",
    "import matplotlib.pyplot as plt"
   ]
  },
  {
   "cell_type": "code",
   "execution_count": 2,
   "metadata": {},
   "outputs": [
    {
     "name": "stdout",
     "output_type": "stream",
     "text": [
      "/home/daniel/bcc/mac422/ep1/analysis\n"
     ]
    }
   ],
   "source": [
    "# pegar a pasta relativa desse notebook no seu pc\n",
    "\n",
    "local_path = os.path.dirname(os.path.abspath(\"analysis.ipynb\"))\n",
    "\n",
    "print(local_path)"
   ]
  },
  {
   "cell_type": "code",
   "execution_count": 90,
   "metadata": {},
   "outputs": [
    {
     "name": "stdout",
     "output_type": "stream",
     "text": [
      "Collecting matplotlib\n",
      "  Downloading matplotlib-3.3.2-cp38-cp38-manylinux1_x86_64.whl (11.6 MB)\n",
      "\u001b[K     |████████████████████████████████| 11.6 MB 1.2 MB/s eta 0:00:01\n",
      "\u001b[?25hRequirement already satisfied: pillow>=6.2.0 in /usr/lib/python3/dist-packages (from matplotlib) (7.0.0)\n",
      "Collecting cycler>=0.10\n",
      "  Using cached cycler-0.10.0-py2.py3-none-any.whl (6.5 kB)\n",
      "Requirement already satisfied: numpy>=1.15 in /home/daniel/.local/lib/python3.8/site-packages (from matplotlib) (1.19.2)\n",
      "Collecting kiwisolver>=1.0.1\n",
      "  Using cached kiwisolver-1.2.0-cp38-cp38-manylinux1_x86_64.whl (92 kB)\n",
      "Requirement already satisfied: pyparsing!=2.0.4,!=2.1.2,!=2.1.6,>=2.0.3 in /home/daniel/.local/lib/python3.8/site-packages (from matplotlib) (2.4.7)\n",
      "Collecting certifi>=2020.06.20\n",
      "  Using cached certifi-2020.6.20-py2.py3-none-any.whl (156 kB)\n",
      "Requirement already satisfied: python-dateutil>=2.1 in /usr/lib/python3/dist-packages (from matplotlib) (2.7.3)\n",
      "Requirement already satisfied: six in /usr/lib/python3/dist-packages (from cycler>=0.10->matplotlib) (1.14.0)\n",
      "Installing collected packages: cycler, kiwisolver, certifi, matplotlib\n",
      "Successfully installed certifi-2020.6.20 cycler-0.10.0 kiwisolver-1.2.0 matplotlib-3.3.2\n"
     ]
    }
   ],
   "source": [
    "# caso não tenha o matplotlib instalado\n",
    "!{sys.executable} -m pip install matplotlib"
   ]
  },
  {
   "cell_type": "code",
   "execution_count": 9,
   "metadata": {},
   "outputs": [
    {
     "name": "stdout",
     "output_type": "stream",
     "text": [
      "42\n"
     ]
    }
   ],
   "source": [
    "print(np.random.randint(60))"
   ]
  },
  {
   "cell_type": "code",
   "execution_count": 3,
   "metadata": {},
   "outputs": [],
   "source": [
    "def create_trace(n_procs, max_dt, max_arrival_time, filename=''):\n",
    "    if (filename == ''):\n",
    "        filename = f'trace{n_procs}'\n",
    "    \n",
    "    tracefile = open(f'data/{filename}', 'w')\n",
    "    times = []\n",
    "    # generates arrival times and sorts them\n",
    "    for i in range(n_procs):\n",
    "        t0 = np.random.randint(max_arrival_time)\n",
    "        times.append(t0)\n",
    "        \n",
    "    times = np.sort(times)\n",
    "    \n",
    "    for i in range(n_procs):\n",
    "        name = f'processo{i}'\n",
    "        dt = np.random.randint(1, max_dt)\n",
    "        deadline = times[i] + dt + np.random.randint(n_procs - i)\n",
    "        tracefile.write(f'{name} {times[i]} {dt} {deadline}\\n')\n",
    "    tracefile.close()\n"
   ]
  },
  {
   "cell_type": "markdown",
   "metadata": {},
   "source": [
    "### Gerando dados\n",
    "\n",
    "Gerar 3 traces diferentes para podermos calcular média e intervalo de confiança. Mesmo que a saída seja igual para todos."
   ]
  },
  {
   "cell_type": "code",
   "execution_count": 16,
   "metadata": {},
   "outputs": [],
   "source": [
    "# create_trace(n_procs=10, max_dt=5, max_arrival_time=15, filename=f'analysis_trace10_{t}')"
   ]
  },
  {
   "cell_type": "markdown",
   "metadata": {},
   "source": [
    "Cria um trace com 100 processos, que demoram 5 segundos no máximo e chegam no escalonador em até 500 segundos."
   ]
  },
  {
   "cell_type": "code",
   "execution_count": 47,
   "metadata": {},
   "outputs": [],
   "source": [
    "create_trace(n_procs=100, max_dt=500, max_arrival_time=500, filename=f'analysis_trace100')"
   ]
  },
  {
   "cell_type": "markdown",
   "metadata": {},
   "source": [
    "Cria um trace com 1000 processos, que demoram 5 segundos no máximo e chegam no escalonador em até 5000 segundos."
   ]
  },
  {
   "cell_type": "code",
   "execution_count": 48,
   "metadata": {},
   "outputs": [],
   "source": [
    "create_trace(n_procs=1000, max_dt=1000, max_arrival_time=950, filename=f'analysis_trace1000')"
   ]
  },
  {
   "cell_type": "markdown",
   "metadata": {},
   "source": [
    "## Resultados\n",
    "\n",
    "O script `run_experiments.sh scheduler nprocs` executa, para o escalonador passado, 30 repetições com a mesma entrada gerada acima contendo 10, 100 ou 1000 processos (definir com nprocs).\n",
    "\n",
    "### Arquivos gerados\n",
    "\n",
    "Cada escalonador (s) é representado por um inteiro\n",
    "\n",
    "1. First come first served\n",
    "2. Shortest remaining time next\n",
    "3. Round Robin\n",
    "\n",
    "Cada quantidade de processos é representada pela letra p e cada uma das 30 repetições é identificada por n (n varia de 1 a 30). Assim, cada execução de `./ep1` pelo `run_experiments.sh` gera um arquivo\n",
    "\n",
    "```\n",
    "analysis/results/s_{escalonador}_p_{quantidade de processos}_n_{numero da repetição}_out\n",
    "```\n",
    "\n",
    "O conteúdo desses arquivos são p linhas contendo\n",
    "\n",
    "```\n",
    "nome_processo tf tr\n",
    "```\n",
    "\n",
    "e uma linha adicional ao final indicando a quantidade de mudanças de contexto."
   ]
  },
  {
   "cell_type": "markdown",
   "metadata": {},
   "source": [
    "## Leitura dos resultados\n",
    "\n",
    ">observar qual foi o impacto dos diferentes escalonadores no cumprimento dos deadlines dos processos simulados e na quantidade de mudanças\n",
    "de contexto."
   ]
  },
  {
   "cell_type": "code",
   "execution_count": 4,
   "metadata": {},
   "outputs": [],
   "source": [
    "scheduler = [1, 2, 3]"
   ]
  },
  {
   "cell_type": "markdown",
   "metadata": {},
   "source": [
    "### Traces contendo 10 processos\n",
    "\n",
    "arquivos de entrada\n",
    "\n",
    "* analysis_trace10_n\n",
    "\n",
    "\n",
    "arquivos de saída\n",
    "\n",
    "* `s_1_p_10_out`\n",
    "* `s_2_p_10_out`\n",
    "* `s_3_p_10_out`"
   ]
  },
  {
   "cell_type": "code",
   "execution_count": 111,
   "metadata": {},
   "outputs": [
    {
     "name": "stdout",
     "output_type": "stream",
     "text": [
      "[[26, 26, 26, 26, 26, 26, 26, 26, 26, 26, 26, 26, 26, 26, 26, 26, 26, 26, 26, 26, 26, 26, 26, 26, 26, 26, 26, 26, 26, 26]]\n"
     ]
    }
   ],
   "source": [
    "nprocs = 10\n",
    "\n",
    "\n",
    "# retorna uma matriz 3x30 com o total de mudanças de contexto\n",
    "# para cada um dos 30 experimentos e cada um dos 3 escalonadores\n",
    "def count_context_switches(nprocs, s):    \n",
    "    context_switches_by_scheduler = []\n",
    "    switches = []\n",
    "    repetition = 1\n",
    "    output_file = open(f'{local_path}/results/s_{s}_p_{nprocs}_out', 'r')\n",
    "    for line in output_file:\n",
    "        line_content = line.replace('\\n', '').split(' ')\n",
    "        # coleta mudança de contexto\n",
    "        if (len(line_content) == 1):\n",
    "            switches.append(int(line_content[0]))\n",
    "            repetition+=1    \n",
    "    context_switches_by_scheduler.append(switches)\n",
    "    return context_switches_by_scheduler\n",
    "\n",
    "cs = count_context_switches(nprocs, 3)\n",
    "print(cs)"
   ]
  },
  {
   "cell_type": "code",
   "execution_count": 69,
   "metadata": {},
   "outputs": [],
   "source": [
    "def read_tracedata(nprocs):\n",
    "    trace_file = open(f'{local_path}/data/analysis_trace{nprocs}')\n",
    "    deadlines = {}\n",
    "    for p in trace_file:\n",
    "        line_content = p.replace('\\n', '').split(' ')\n",
    "        p_name = line_content[0]\n",
    "        deadline = int(line_content[3])\n",
    "        deadlines[p_name] = deadline\n",
    "    return deadlines"
   ]
  },
  {
   "cell_type": "code",
   "execution_count": 70,
   "metadata": {},
   "outputs": [],
   "source": [
    "def read_results(nprocs, scheduler):\n",
    "    results_file = open(f'{local_path}/results/s_{scheduler}_p_{nprocs}_out')\n",
    "    tfs = {}\n",
    "    for r in results_file:\n",
    "        content = r.replace('\\n', '').split(' ')\n",
    "        if (len(content) != 1):\n",
    "            tfs[content[0]] = int(content[1])\n",
    "    return tfs"
   ]
  },
  {
   "cell_type": "code",
   "execution_count": 85,
   "metadata": {},
   "outputs": [
    {
     "name": "stdout",
     "output_type": "stream",
     "text": [
      "980\n"
     ]
    }
   ],
   "source": [
    "def count_deadline_exceeded(nprocs, scheduler):\n",
    "    deadlines = read_tracedata(nprocs)\n",
    "    n = 0\n",
    "    tfs = read_results(nprocs, scheduler)\n",
    "    for p in deadlines:\n",
    "        if (tfs[p] > deadlines[p]):\n",
    "            n+=1\n",
    "    return n\n",
    "\n",
    "n = count_deadline_exceeded(nprocs, 1)\n",
    "print(n)"
   ]
  },
  {
   "cell_type": "markdown",
   "metadata": {},
   "source": [
    "## Quantidade de mudanças de contexto"
   ]
  },
  {
   "cell_type": "code",
   "execution_count": 179,
   "metadata": {},
   "outputs": [
    {
     "data": {
      "image/png": "[encoded data removed]",
      "text/plain": [
       "<Figure size 432x288 with 1 Axes>"
      ]
     },
     "metadata": {
      "needs_background": "light"
     },
     "output_type": "display_data"
    },
    {
     "data": {
      "image/png": "[encoded data removed]",
      "text/plain": [
       "<Figure size 432x288 with 1 Axes>"
      ]
     },
     "metadata": {
      "needs_background": "light"
     },
     "output_type": "display_data"
    },
    {
     "data": {
      "image/png": "[encoded data removed]",
      "text/plain": [
       "<Figure size 432x288 with 1 Axes>"
      ]
     },
     "metadata": {
      "needs_background": "light"
     },
     "output_type": "display_data"
    }
   ],
   "source": [
    "def autolabel(ax, bar_plot, bar_label):\n",
    "    for idx,rect in enumerate(bar_plot):\n",
    "        height = rect.get_height()\n",
    "        ax.text(rect.get_x() + rect.get_width()/2., 1.05*height,\n",
    "                int(bar_label[idx]),\n",
    "                ha='center', va='bottom', rotation=0)\n",
    "            \n",
    "def plot_context_switches(nprocs):\n",
    "    n = np.arange(3)\n",
    "    x_labels = ['FCFS', 'SRTN', 'Round Robin']\n",
    "    y = []\n",
    "    for s in scheduler:\n",
    "        c = np.average(count_context_switches(nprocs, s))\n",
    "        y.append(c)\n",
    "\n",
    "    fig, ax = plt.subplots()\n",
    "    plt.xticks(n, x_labels)\n",
    "    plt.margins(0.2,0.2)\n",
    "    fcfs = ax.bar(0, y[0], color='teal', xerr=0.1)\n",
    "    srtn = ax.bar(1, y[1], color='lime', xerr=0.1)\n",
    "    rr = ax.bar(2, y[2], color='dodgerblue', xerr=0.1)\n",
    "    ax.set_title(f'Mudanças de contexto para {nprocs} processos')\n",
    "    ax.set_yscale('log')\n",
    "    plt.ylabel('quantidade de mudanças')\n",
    "    plt.xlabel('escalonador')\n",
    "    autolabel(ax, fcfs, [y[0]])\n",
    "    autolabel(ax, srtn, [y[1]])\n",
    "    autolabel(ax, rr, [y[2]])\n",
    "    plt.savefig(f'cs_{nprocs}.png')\n",
    "\n",
    "plot_context_switches(10)\n",
    "plot_context_switches(100)\n",
    "plot_context_switches(1000)"
   ]
  },
  {
   "cell_type": "code",
   "execution_count": 185,
   "metadata": {},
   "outputs": [
    {
     "data": {
      "image/png": "[encoded data removed]",
      "text/plain": [
       "<Figure size 432x288 with 1 Axes>"
      ]
     },
     "metadata": {
      "needs_background": "light"
     },
     "output_type": "display_data"
    },
    {
     "data": {
      "image/png": "[encoded data removed]",
      "text/plain": [
       "<Figure size 432x288 with 1 Axes>"
      ]
     },
     "metadata": {
      "needs_background": "light"
     },
     "output_type": "display_data"
    },
    {
     "data": {
      "image/png": "[encoded data removed]",
      "text/plain": [
       "<Figure size 432x288 with 1 Axes>"
      ]
     },
     "metadata": {
      "needs_background": "light"
     },
     "output_type": "display_data"
    }
   ],
   "source": [
    "def plot_deadlines_exceeded(nprocs):\n",
    "    n = np.arange(3)\n",
    "    x_labels = ['FCFS', 'SRTN', 'Round Robin']\n",
    "    y = []\n",
    "    for s in scheduler:\n",
    "        c = np.average(count_deadline_exceeded(nprocs, s))\n",
    "        y.append(c)\n",
    "\n",
    "    fig, ax = plt.subplots()\n",
    "    plt.xticks(n, x_labels)\n",
    "    plt.margins(0.2,0.2)\n",
    "    fcfs = ax.bar(0, y[0], color='teal', xerr=0.1)\n",
    "    srtn = ax.bar(1, y[1], color='lime', xerr=0.1)\n",
    "    rr = ax.bar(2, y[2], color='dodgerblue', xerr=0.1)\n",
    "    ax.set_title(f'Deadlines não cumpridos para {nprocs} processos')\n",
    "    plt.ylabel('deadlines não cumpridos')\n",
    "    plt.xlabel('escalonador')\n",
    "    autolabel(ax, fcfs, [y[0]])\n",
    "    autolabel(ax, srtn, [y[1]])\n",
    "    autolabel(ax, rr, [y[2]])\n",
    "    plt.savefig(f'deadlines_{nprocs}.png')\n",
    "\n",
    "plot_deadlines_exceeded(10)\n",
    "plot_deadlines_exceeded(100)\n",
    "plot_deadlines_exceeded(1000)"
   ]
  }
 ],
 "metadata": {
  "kernelspec": {
   "display_name": "Python 3",
   "language": "python",
   "name": "python3"
  },
  "language_info": {
   "codemirror_mode": {
    "name": "ipython",
    "version": 3
   },
   "file_extension": ".py",
   "mimetype": "text/x-python",
   "name": "python",
   "nbconvert_exporter": "python",
   "pygments_lexer": "ipython3",
   "version": "3.8.2"
  }
 },
 "nbformat": 4,
 "nbformat_minor": 4
}
