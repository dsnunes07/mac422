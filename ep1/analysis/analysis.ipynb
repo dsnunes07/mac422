{
 "cells": [
  {
   "cell_type": "markdown",
   "metadata": {},
   "source": [
    "# MAC0422 - Sistemas Operacionais\n",
    "\n",
    "### Análise de resultados do EP1"
   ]
  },
  {
   "cell_type": "markdown",
   "metadata": {},
   "source": [
    "Esse notebook contém código útil para gerar arquivos de trace significativamente grandes para serem testados no simulador do EP1.\n",
    "\n",
    "Também apresenta a implementação de análises e elaboração dos gráficos a partir dos resultados obtidos por cada um dos processos de escalonamento."
   ]
  },
  {
   "cell_type": "code",
   "execution_count": 2,
   "metadata": {},
   "outputs": [],
   "source": [
    "import numpy as np\n",
    "import time"
   ]
  },
  {
   "cell_type": "code",
   "execution_count": 3,
   "metadata": {},
   "outputs": [
    {
     "name": "stdout",
     "output_type": "stream",
     "text": [
      "16\n"
     ]
    }
   ],
   "source": [
    "print(np.random.randint(60))"
   ]
  },
  {
   "cell_type": "code",
   "execution_count": 4,
   "metadata": {},
   "outputs": [],
   "source": [
    "def create_trace(n_procs, max_dt, max_arrival_time, filename=''):\n",
    "    if (filename == ''):\n",
    "        filename = f'trace{n_procs}'\n",
    "    \n",
    "    tracefile = open(f'data/{filename}', 'w')\n",
    "    times = []\n",
    "    # generates arrival times and sorts them\n",
    "    for i in range(n_procs):\n",
    "        t0 = np.random.randint(max_arrival_time)\n",
    "        times.append(t0)\n",
    "        \n",
    "    times = np.sort(times)\n",
    "    \n",
    "    for i in range(n_procs):\n",
    "        name = f'processo{i}'\n",
    "        dt = np.random.randint(1, max_dt)\n",
    "        deadline = times[i] + dt + np.random.randint(1, 30)\n",
    "        tracefile.write(f'{name} {times[i]} {dt} {deadline}\\n')\n",
    "    tracefile.close()\n"
   ]
  },
  {
   "cell_type": "markdown",
   "metadata": {},
   "source": [
    "### Gerando dados\n",
    "\n",
    "Criar um trace com 10 processos, que demoram 5 segundos no máximo e chegam em até 50 segundos."
   ]
  },
  {
   "cell_type": "code",
   "execution_count": 5,
   "metadata": {},
   "outputs": [],
   "source": [
    "create_trace(n_procs=10, max_dt=5, max_arrival_time=15, filename='analysis_trace10')"
   ]
  },
  {
   "cell_type": "markdown",
   "metadata": {},
   "source": [
    "Cria um trace com 100 processos, que demoram 5 segundos no máximo e chegam no escalonador em até 500 segundos."
   ]
  },
  {
   "cell_type": "code",
   "execution_count": 6,
   "metadata": {},
   "outputs": [],
   "source": [
    "create_trace(n_procs=100, max_dt=5, max_arrival_time=50, filename='analysis_trace100')"
   ]
  },
  {
   "cell_type": "markdown",
   "metadata": {},
   "source": [
    "Cria um trace com 1000 processos, que demoram 5 segundos no máximo e chegam no escalonador em até 5000 segundos."
   ]
  },
  {
   "cell_type": "code",
   "execution_count": 7,
   "metadata": {},
   "outputs": [],
   "source": [
    "create_trace(n_procs=1000, max_dt=5, max_arrival_time=500, filename='analysis_trace1000')"
   ]
  },
  {
   "cell_type": "markdown",
   "metadata": {},
   "source": [
    "## Resultados\n",
    "\n",
    "O script `run_experiments.sh` executa, para um dos três escalonadores, 30 repetições com 10, 100 e 1000 processos.\n",
    "\n",
    "### Arquivos gerados\n",
    "\n",
    "Cada escalonador (s) é representado por um inteiro\n",
    "\n",
    "1. First come first served\n",
    "2. Shortest remaining time next\n",
    "3. Round Robin\n",
    "\n",
    "Cada quantidade de processos é representada pela letra p e cada uma das 30 repetições é identificada por n (n varia de 1 a 30). Assim, cada execução de `./ep1` pelo `run_experiments.sh` gera um arquivo\n",
    "\n",
    "```\n",
    "analysis/results/s_{escalonador}_p_{quantidade de processos}_n_{numero da repetição}_out\n",
    "```\n",
    "\n",
    "O conteúdo desses arquivos são p linhas contendo\n",
    "\n",
    "```\n",
    "nome_processo tf tr\n",
    "```\n",
    "\n",
    "e uma linha adicional ao final indicando a quantidade de mudanças de contexto."
   ]
  }
 ],
 "metadata": {
  "kernelspec": {
   "display_name": "Python 3",
   "language": "python",
   "name": "python3"
  },
  "language_info": {
   "codemirror_mode": {
    "name": "ipython",
    "version": 3
   },
   "file_extension": ".py",
   "mimetype": "text/x-python",
   "name": "python",
   "nbconvert_exporter": "python",
   "pygments_lexer": "ipython3",
   "version": "3.8.2"
  }
 },
 "nbformat": 4,
 "nbformat_minor": 4
}
