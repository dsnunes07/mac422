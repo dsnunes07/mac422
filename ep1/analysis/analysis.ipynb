{
 "cells": [
  {
   "cell_type": "markdown",
   "metadata": {},
   "source": [
    "# MAC0422 - Sistemas Operacionais\n",
    "\n",
    "### Análise de resultados do EP1"
   ]
  },
  {
   "cell_type": "markdown",
   "metadata": {},
   "source": [
    "Esse notebook contém código útil para gerar arquivos de trace significativamente grandes para serem testados no simulador do EP1.\n",
    "\n",
    "Também apresenta a implementação de análises e elaboração dos gráficos a partir dos resultados obtidos por cada um dos processos de escalonamento."
   ]
  },
  {
   "cell_type": "code",
   "execution_count": 1,
   "metadata": {},
   "outputs": [],
   "source": [
    "import numpy as np\n",
    "import time\n",
    "import pandas\n",
    "import os"
   ]
  },
  {
   "cell_type": "code",
   "execution_count": 2,
   "metadata": {},
   "outputs": [
    {
     "name": "stdout",
     "output_type": "stream",
     "text": [
      "/home/daniel/bcc/mac422/ep1/analysis\n"
     ]
    }
   ],
   "source": [
    "# pegar a pasta relativa desse notebook no seu pc\n",
    "\n",
    "local_path = os.path.dirname(os.path.abspath(\"analysis.ipynb\"))\n",
    "\n",
    "print(local_path)"
   ]
  },
  {
   "cell_type": "code",
   "execution_count": 26,
   "metadata": {},
   "outputs": [],
   "source": [
    "# caso não tenha o pandas instalado\n",
    "# import pandas\n",
    "# !{sys.executable} -m pip install pandas"
   ]
  },
  {
   "cell_type": "code",
   "execution_count": 9,
   "metadata": {},
   "outputs": [
    {
     "name": "stdout",
     "output_type": "stream",
     "text": [
      "42\n"
     ]
    }
   ],
   "source": [
    "print(np.random.randint(60))"
   ]
  },
  {
   "cell_type": "code",
   "execution_count": 3,
   "metadata": {},
   "outputs": [],
   "source": [
    "def create_trace(n_procs, max_dt, max_arrival_time, filename=''):\n",
    "    if (filename == ''):\n",
    "        filename = f'trace{n_procs}'\n",
    "    \n",
    "    tracefile = open(f'data/{filename}', 'w')\n",
    "    times = []\n",
    "    # generates arrival times and sorts them\n",
    "    for i in range(n_procs):\n",
    "        t0 = np.random.randint(max_arrival_time)\n",
    "        times.append(t0)\n",
    "        \n",
    "    times = np.sort(times)\n",
    "    \n",
    "    for i in range(n_procs):\n",
    "        name = f'processo{i}'\n",
    "        dt = np.random.randint(1, max_dt)\n",
    "        deadline = times[i] + dt + np.random.randint(n_procs - i)\n",
    "        tracefile.write(f'{name} {times[i]} {dt} {deadline}\\n')\n",
    "    tracefile.close()\n"
   ]
  },
  {
   "cell_type": "markdown",
   "metadata": {},
   "source": [
    "### Gerando dados\n",
    "\n",
    "Gerar 3 traces diferentes para podermos calcular média e intervalo de confiança. Mesmo que a saída seja igual para todos."
   ]
  },
  {
   "cell_type": "code",
   "execution_count": 16,
   "metadata": {},
   "outputs": [],
   "source": [
    "# create_trace(n_procs=10, max_dt=5, max_arrival_time=15, filename=f'analysis_trace10_{t}')"
   ]
  },
  {
   "cell_type": "markdown",
   "metadata": {},
   "source": [
    "Cria um trace com 100 processos, que demoram 5 segundos no máximo e chegam no escalonador em até 500 segundos."
   ]
  },
  {
   "cell_type": "code",
   "execution_count": 47,
   "metadata": {},
   "outputs": [],
   "source": [
    "create_trace(n_procs=100, max_dt=500, max_arrival_time=500, filename=f'analysis_trace100')"
   ]
  },
  {
   "cell_type": "markdown",
   "metadata": {},
   "source": [
    "Cria um trace com 1000 processos, que demoram 5 segundos no máximo e chegam no escalonador em até 5000 segundos."
   ]
  },
  {
   "cell_type": "code",
   "execution_count": 48,
   "metadata": {},
   "outputs": [],
   "source": [
    "create_trace(n_procs=1000, max_dt=1000, max_arrival_time=950, filename=f'analysis_trace1000')"
   ]
  },
  {
   "cell_type": "markdown",
   "metadata": {},
   "source": [
    "## Resultados\n",
    "\n",
    "O script `run_experiments.sh scheduler nprocs` executa, para o escalonador passado, 30 repetições com a mesma entrada gerada acima contendo 10, 100 ou 1000 processos (definir com nprocs).\n",
    "\n",
    "### Arquivos gerados\n",
    "\n",
    "Cada escalonador (s) é representado por um inteiro\n",
    "\n",
    "1. First come first served\n",
    "2. Shortest remaining time next\n",
    "3. Round Robin\n",
    "\n",
    "Cada quantidade de processos é representada pela letra p e cada uma das 30 repetições é identificada por n (n varia de 1 a 30). Assim, cada execução de `./ep1` pelo `run_experiments.sh` gera um arquivo\n",
    "\n",
    "```\n",
    "analysis/results/s_{escalonador}_p_{quantidade de processos}_n_{numero da repetição}_out\n",
    "```\n",
    "\n",
    "O conteúdo desses arquivos são p linhas contendo\n",
    "\n",
    "```\n",
    "nome_processo tf tr\n",
    "```\n",
    "\n",
    "e uma linha adicional ao final indicando a quantidade de mudanças de contexto."
   ]
  },
  {
   "cell_type": "markdown",
   "metadata": {},
   "source": [
    "## Leitura dos resultados\n",
    "\n",
    ">observar qual foi o impacto dos diferentes escalonadores no cumprimento dos deadlines dos processos simulados e na quantidade de mudanças\n",
    "de contexto."
   ]
  },
  {
   "cell_type": "code",
   "execution_count": 4,
   "metadata": {},
   "outputs": [],
   "source": [
    "scheduler = [1, 2, 3]"
   ]
  },
  {
   "cell_type": "markdown",
   "metadata": {},
   "source": [
    "### Traces contendo 10 processos\n",
    "\n",
    "arquivos de entrada\n",
    "\n",
    "* analysis_trace10_n\n",
    "\n",
    "\n",
    "arquivos de saída\n",
    "\n",
    "* `s_1_p_10_out`\n",
    "* `s_2_p_10_out`\n",
    "* `s_3_p_10_out`"
   ]
  },
  {
   "cell_type": "code",
   "execution_count": 49,
   "metadata": {},
   "outputs": [
    {
     "name": "stdout",
     "output_type": "stream",
     "text": [
      "[[0, 0, 0, 0, 0, 0, 0, 0, 0, 0, 0, 0, 0, 0, 0, 0, 0, 0, 0, 0, 0, 0, 0, 0, 0, 0, 0, 0, 0, 0, 0, 0, 0, 0, 0, 0, 0, 0, 0, 0, 0, 0, 0, 0, 0, 0, 0, 0, 0, 0, 0, 0, 0, 0, 0, 0, 0, 0, 0, 0], [44, 44, 44, 44, 44, 44, 44, 44, 44, 44, 44, 44, 44, 44, 44, 44, 44, 44, 44, 44, 44, 44, 44, 44, 44, 44, 44, 44, 44, 44, 25, 25, 25, 25, 25, 25, 25, 25, 25, 25, 25, 25, 25, 25, 25, 25, 25, 25, 25, 25, 25, 25, 25, 25, 25, 25, 25, 25, 25, 25], [25392, 25392, 25392, 25392, 25392, 25392, 25392, 25392, 25392, 25392, 25392, 25392, 25392, 25392, 25392, 25392, 25392, 25392, 25392, 25392, 25392, 25392, 25392, 25392, 25392, 25392, 25392, 25392, 25392, 25392, 509155, 509155, 509155, 509155, 509155, 509155, 509155, 509155, 509155, 509155, 509155, 509155, 509155, 509155, 509155, 509155, 509155]]\n"
     ]
    }
   ],
   "source": [
    "nprocs = 1000\n",
    "\n",
    "\n",
    "# retorna uma matriz 3x30 com o total de mudanças de contexto\n",
    "# para cada um dos 30 experimentos e cada um dos 3 escalonadores\n",
    "def count_context_switches(nprocs):    \n",
    "    context_switches_by_scheduler = []\n",
    "    for s in scheduler:\n",
    "        switches = []\n",
    "        repetition = 1\n",
    "        output_file = open(f'{local_path}/results/s_{s}_p_{nprocs}_out', 'r')\n",
    "        for line in output_file:\n",
    "            line_content = line.replace('\\n', '').split(' ')\n",
    "            # coleta mudança de contexto\n",
    "            if (len(line_content) == 1):\n",
    "                switches.append(int(line_content[0]))\n",
    "                repetition+=1    \n",
    "        context_switches_by_scheduler.append(switches)\n",
    "    return context_switches_by_scheduler\n",
    "\n",
    "cs = count_context_switches(nprocs)\n",
    "print(cs)"
   ]
  },
  {
   "cell_type": "code",
   "execution_count": 58,
   "metadata": {},
   "outputs": [],
   "source": [
    "def read_tracedata(nprocs):\n",
    "    trace_file = open(f'{local_path}/data/analysis_trace{nprocs}')\n",
    "    deadlines = {}\n",
    "    for p in trace_file:\n",
    "        line_content = p.replace('\\n', '').split(' ')\n",
    "        p_name = line_content[0]\n",
    "        deadline = int(line_content[3])\n",
    "        deadlines[p_name] = deadline\n",
    "    return deadlines"
   ]
  },
  {
   "cell_type": "code",
   "execution_count": 57,
   "metadata": {},
   "outputs": [],
   "source": [
    "def read_results(nprocs, scheduler):\n",
    "    results_file = open(f'{local_path}/results/s_{scheduler}_p_{nprocs}_out')\n",
    "    tfs = {}\n",
    "    for r in results_file:\n",
    "        content = r.replace('\\n', '').split(' ')\n",
    "        if (len(content) != 1):\n",
    "            tfs[content[0]] = int(content[2])\n",
    "    return tfs"
   ]
  },
  {
   "cell_type": "code",
   "execution_count": 61,
   "metadata": {},
   "outputs": [
    {
     "name": "stdout",
     "output_type": "stream",
     "text": [
      "998\n"
     ]
    }
   ],
   "source": [
    "def count_deadline_exceeded(nprocs, scheduler):\n",
    "    deadlines = read_tracedata(nprocs)\n",
    "    n = 0\n",
    "    tfs = read_results(nprocs, scheduler)\n",
    "    for p in deadlines:\n",
    "        if (tfs[p] > deadlines[p]):\n",
    "            n+=1\n",
    "    return n\n",
    "\n",
    "n = count_deadline_exceeded(nprocs, 3)\n",
    "print(n)"
   ]
  },
  {
   "cell_type": "code",
   "execution_count": null,
   "metadata": {},
   "outputs": [],
   "source": []
  }
 ],
 "metadata": {
  "kernelspec": {
   "display_name": "Python 3",
   "language": "python",
   "name": "python3"
  },
  "language_info": {
   "codemirror_mode": {
    "name": "ipython",
    "version": 3
   },
   "file_extension": ".py",
   "mimetype": "text/x-python",
   "name": "python",
   "nbconvert_exporter": "python",
   "pygments_lexer": "ipython3",
   "version": "3.8.2"
  }
 },
 "nbformat": 4,
 "nbformat_minor": 4
}
