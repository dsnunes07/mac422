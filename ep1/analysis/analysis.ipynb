{
 "cells": [
  {
   "cell_type": "markdown",
   "metadata": {},
   "source": [
    "# MAC0422 - Sistemas Operacionais\n",
    "\n",
    "### Análise de resultados do EP1"
   ]
  },
  {
   "cell_type": "markdown",
   "metadata": {},
   "source": [
    "Esse notebook contém código útil para gerar arquivos de trace significativamente grandes para serem testados no simulador do EP1.\n",
    "\n",
    "Também apresenta a implementação de análises e elaboração dos gráficos a partir dos resultados obtidos por cada um dos processos de escalonamento."
   ]
  },
  {
   "cell_type": "code",
   "execution_count": 37,
   "metadata": {},
   "outputs": [],
   "source": [
    "import numpy as np\n",
    "import time\n",
    "import pandas\n",
    "import os"
   ]
  },
  {
   "cell_type": "code",
   "execution_count": 39,
   "metadata": {},
   "outputs": [
    {
     "name": "stdout",
     "output_type": "stream",
     "text": [
      "/home/daniel/bcc/mac422/ep1/analysis\n"
     ]
    }
   ],
   "source": [
    "# pegar a pasta relativa desse notebook no seu pc\n",
    "\n",
    "local_path = os.path.dirname(os.path.abspath(\"analysis.ipynb\"))\n",
    "\n",
    "print(local_path)"
   ]
  },
  {
   "cell_type": "code",
   "execution_count": 26,
   "metadata": {},
   "outputs": [],
   "source": [
    "# caso não tenha o pandas instalado\n",
    "# import pandas\n",
    "# !{sys.executable} -m pip install pandas"
   ]
  },
  {
   "cell_type": "code",
   "execution_count": 9,
   "metadata": {},
   "outputs": [
    {
     "name": "stdout",
     "output_type": "stream",
     "text": [
      "42\n"
     ]
    }
   ],
   "source": [
    "print(np.random.randint(60))"
   ]
  },
  {
   "cell_type": "code",
   "execution_count": 10,
   "metadata": {},
   "outputs": [],
   "source": [
    "def create_trace(n_procs, max_dt, max_arrival_time, filename=''):\n",
    "    if (filename == ''):\n",
    "        filename = f'trace{n_procs}'\n",
    "    \n",
    "    tracefile = open(f'data/{filename}', 'w')\n",
    "    times = []\n",
    "    # generates arrival times and sorts them\n",
    "    for i in range(n_procs):\n",
    "        t0 = np.random.randint(max_arrival_time)\n",
    "        times.append(t0)\n",
    "        \n",
    "    times = np.sort(times)\n",
    "    \n",
    "    for i in range(n_procs):\n",
    "        name = f'processo{i}'\n",
    "        dt = np.random.randint(1, max_dt)\n",
    "        deadline = times[i] + dt + np.random.randint(n_procs - i)\n",
    "        tracefile.write(f'{name} {times[i]} {dt} {deadline}\\n')\n",
    "    tracefile.close()\n"
   ]
  },
  {
   "cell_type": "markdown",
   "metadata": {},
   "source": [
    "### Gerando dados\n",
    "\n",
    "Gerar 90 traces diferentes para podermos calcular média e intervalo de confiança :p"
   ]
  },
  {
   "cell_type": "code",
   "execution_count": 16,
   "metadata": {},
   "outputs": [],
   "source": [
    "for t in range(1,30):\n",
    "    create_trace(n_procs=10, max_dt=5, max_arrival_time=15, filename=f'analysis_trace10_{t}')"
   ]
  },
  {
   "cell_type": "markdown",
   "metadata": {},
   "source": [
    "Cria um trace com 100 processos, que demoram 5 segundos no máximo e chegam no escalonador em até 500 segundos."
   ]
  },
  {
   "cell_type": "code",
   "execution_count": 15,
   "metadata": {},
   "outputs": [],
   "source": [
    "for t in range(1,30):\n",
    "    create_trace(n_procs=100, max_dt=5, max_arrival_time=50, filename=f'analysis_trace100_{t}')"
   ]
  },
  {
   "cell_type": "markdown",
   "metadata": {},
   "source": [
    "Cria um trace com 1000 processos, que demoram 5 segundos no máximo e chegam no escalonador em até 5000 segundos."
   ]
  },
  {
   "cell_type": "code",
   "execution_count": 19,
   "metadata": {},
   "outputs": [],
   "source": [
    "for t in range(1,30):\n",
    "    create_trace(n_procs=1000, max_dt=5, max_arrival_time=500, filename=f'analysis_trace1000_{t}')"
   ]
  },
  {
   "cell_type": "markdown",
   "metadata": {},
   "source": [
    "## Resultados\n",
    "\n",
    "O script `run_experiments.sh scheduler nprocs` executa, para o escalonador passado, 30 repetições com traces aleatórios gerados acima contendo 10, 100 ou 1000 processos (definir com nprocs).\n",
    "\n",
    "### Arquivos gerados\n",
    "\n",
    "Cada escalonador (s) é representado por um inteiro\n",
    "\n",
    "1. First come first served\n",
    "2. Shortest remaining time next\n",
    "3. Round Robin\n",
    "\n",
    "Cada quantidade de processos é representada pela letra p e cada uma das 30 repetições é identificada por n (n varia de 1 a 30). Assim, cada execução de `./ep1` pelo `run_experiments.sh` gera um arquivo\n",
    "\n",
    "```\n",
    "analysis/results/s_{escalonador}_p_{quantidade de processos}_n_{numero da repetição}_out\n",
    "```\n",
    "\n",
    "O conteúdo desses arquivos são p linhas contendo\n",
    "\n",
    "```\n",
    "nome_processo tf tr\n",
    "```\n",
    "\n",
    "e uma linha adicional ao final indicando a quantidade de mudanças de contexto."
   ]
  },
  {
   "cell_type": "markdown",
   "metadata": {},
   "source": [
    "## Leitura dos resultados\n",
    "\n",
    ">observar qual foi o impacto dos diferentes escalonadores no cumprimento dos deadlines dos processos simulados e na quantidade de mudanças\n",
    "de contexto."
   ]
  },
  {
   "cell_type": "code",
   "execution_count": 46,
   "metadata": {},
   "outputs": [],
   "source": [
    "scheduler = [1, 2, 3]"
   ]
  },
  {
   "cell_type": "markdown",
   "metadata": {},
   "source": [
    "### Traces contendo 10 processos\n",
    "\n",
    "arquivos de entrada\n",
    "\n",
    "* analysis_trace10_n\n",
    "\n",
    "\n",
    "arquivos de saída\n",
    "\n",
    "* `s_1_p_10_out`\n",
    "* `s_2_p_10_out`\n",
    "* `s_3_p_10_out`"
   ]
  },
  {
   "cell_type": "code",
   "execution_count": 59,
   "metadata": {},
   "outputs": [
    {
     "name": "stdout",
     "output_type": "stream",
     "text": [
      "[[10, 10, 10, 10, 10, 10, 10, 10, 10, 10, 10, 10, 10, 10, 10, 10, 10, 10, 10, 10, 10, 10, 10, 10, 10, 10, 10, 10, 10], [11, 11, 11, 11, 12, 11, 12, 11, 11, 12, 11, 13, 12, 12, 10, 12, 11, 13, 12, 14, 11, 11, 12, 13, 11, 13, 11, 11, 11], [27, 21, 23, 32, 18, 20, 30, 28, 22, 25, 23, 23, 26, 28, 25, 22, 24, 29, 26, 21, 27, 26, 28, 21, 33, 22, 20, 25, 21]]\n"
     ]
    }
   ],
   "source": [
    "n_procs = 10\n",
    "context_switches_by_scheduler = []\n",
    "for s in scheduler:\n",
    "    switches = []\n",
    "    repetition = 1\n",
    "    output_file = open(f'{local_path}/results/s_{s}_p_{n_procs}_out', 'r')\n",
    "    for line in output_file:\n",
    "        line_content = line.replace('\\n', '').split(' ')\n",
    "        # coleta mudança de contexto\n",
    "        if (len(line_content) == 1):\n",
    "            switches.append(int(line_content[0]))\n",
    "            repetition+=1    \n",
    "    context_switches_by_scheduler.append(switches)\n",
    "\n",
    "print(context_switches_by_scheduler)"
   ]
  },
  {
   "cell_type": "markdown",
   "metadata": {},
   "source": [
    "#### Mudanças de contexto:"
   ]
  },
  {
   "cell_type": "code",
   "execution_count": null,
   "metadata": {},
   "outputs": [],
   "source": []
  }
 ],
 "metadata": {
  "kernelspec": {
   "display_name": "Python 3",
   "language": "python",
   "name": "python3"
  },
  "language_info": {
   "codemirror_mode": {
    "name": "ipython",
    "version": 3
   },
   "file_extension": ".py",
   "mimetype": "text/x-python",
   "name": "python",
   "nbconvert_exporter": "python",
   "pygments_lexer": "ipython3",
   "version": "3.8.2"
  }
 },
 "nbformat": 4,
 "nbformat_minor": 4
}
