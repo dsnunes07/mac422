{
 "cells": [
  {
   "cell_type": "code",
   "execution_count": 6,
   "metadata": {},
   "outputs": [],
   "source": [
    "import random\n",
    "alpha = ['praxe', 'feixe', 'imune', '77777', 'sorte', 'um um', 'peixe']\n",
    "f = open('1mb', 'w')\n",
    "n = 200000\n",
    "\n",
    "for _ in range(n):\n",
    "    f.write(f'{random.choice(alpha)}')\n",
    "f.close()"
   ]
  },
  {
   "cell_type": "code",
   "execution_count": 7,
   "metadata": {},
   "outputs": [],
   "source": [
    "alpha = ['verde', 'folha', 'gelo ', 'sois ', 'verao', 'azuis', 'assim']\n",
    "n = 2000000\n",
    "f = open('10mb', 'w')\n",
    "for _ in range(n):\n",
    "    f.write(f'{random.choice(alpha)}')\n",
    "f.close()"
   ]
  },
  {
   "cell_type": "code",
   "execution_count": 8,
   "metadata": {},
   "outputs": [],
   "source": [
    "alpha = ['prime', 'azedo', 'corra', '23 46', 'mesa ', 'lisa ']\n",
    "f = open('30mb', 'w')\n",
    "n = 6000000\n",
    "for _ in range(n):\n",
    "    f.write(f'{random.choice(alpha)}')\n",
    "f.close()"
   ]
  },
  {
   "cell_type": "code",
   "execution_count": 3,
   "metadata": {},
   "outputs": [],
   "source": [
    "f = open('touchs', 'w')\n",
    "f.write('mount vazio\\n')\n",
    "for i in range(346):\n",
    "    f.write(f'touch arquivo{i}\\n')\n",
    "f.write('df\\n')\n",
    "f.write('umount\\n')\n",
    "f.write('sai\\n')\n",
    "f.close()"
   ]
  },
  {
   "cell_type": "code",
   "execution_count": 1,
   "metadata": {},
   "outputs": [],
   "source": [
    "# Cria centenas de subdiretórios a partir da pasta /filhos\n",
    "\n",
    "f = open('e_subdirs', 'w')\n",
    "f.write('mount unid\\n')\n",
    "dirs = '/filhos'\n",
    "for i in range(30):\n",
    "    f.write(f'mkdir {dirs}\\n')\n",
    "    dirs += f'/folder{i}'\n",
    "f.write('umount\\n')\n",
    "f.close()"
   ]
  },
  {
   "cell_type": "code",
   "execution_count": 4,
   "metadata": {},
   "outputs": [],
   "source": [
    "# Cria centenas de subdiretórios com um arquivo a partir da pasta /filhos\n",
    "\n",
    "f = open('h_subdirs', 'w')\n",
    "f.write('mount unid\\n')\n",
    "dirs = '/filhos'\n",
    "for i in range(30):\n",
    "    f.write(f'mkdir {dirs}\\n')\n",
    "    for j in range(100):\n",
    "        f.write(f'touch {dirs}/arquivo{j}\\n')\n",
    "    f.write(f'cp {arquivo} {dirs}/{arquivo}\\n')\n",
    "    dirs += f'/folder{i}'\n",
    "f.write('umount\\n')\n",
    "f.close()"
   ]
  }
 ],
 "metadata": {
  "kernelspec": {
   "display_name": "Python 3",
   "language": "python",
   "name": "python3"
  },
  "language_info": {
   "codemirror_mode": {
    "name": "ipython",
    "version": 3
   },
   "file_extension": ".py",
   "mimetype": "text/x-python",
   "name": "python",
   "nbconvert_exporter": "python",
   "pygments_lexer": "ipython3",
   "version": "3.8.5"
  }
 },
 "nbformat": 4,
 "nbformat_minor": 4
}
