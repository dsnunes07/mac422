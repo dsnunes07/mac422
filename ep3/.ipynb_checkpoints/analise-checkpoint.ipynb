{
 "cells": [
  {
   "cell_type": "code",
   "execution_count": 32,
   "metadata": {},
   "outputs": [],
   "source": [
    "import numpy as np\n",
    "import matplotlib.pyplot as plt"
   ]
  },
  {
   "cell_type": "code",
   "execution_count": 10,
   "metadata": {},
   "outputs": [],
   "source": [
    "def parse_output(name):\n",
    "    f = open(name, 'r')\n",
    "    times = []\n",
    "    for line in f.readlines():\n",
    "        if 'decorrido' in line:\n",
    "            line = line.rstrip()\n",
    "            time_idx = line.rfind(' ')\n",
    "            time = float(line[time_idx:-1])\n",
    "            times.append(time)\n",
    "    return np.array(times)"
   ]
  },
  {
   "cell_type": "code",
   "execution_count": 17,
   "metadata": {},
   "outputs": [],
   "source": [
    "copia_1_0 = parse_output('copia_1_vazia')\n",
    "copia_10_0 = parse_output('copia_10_vazia')\n",
    "copia_30_0 = parse_output('copia_30_vazia')\n",
    "copia_1_10 = parse_output('copia_1_10')\n",
    "copia_10_10 = parse_output('copia_10_10')\n",
    "copia_30_10 = parse_output('copia_30_10')\n",
    "copia_1_50 = parse_output('copia_1_50')\n",
    "copia_10_50 = parse_output('copia_10_50')\n",
    "copia_30_50 = parse_output('copia_30_50')"
   ]
  },
  {
   "cell_type": "code",
   "execution_count": 16,
   "metadata": {},
   "outputs": [],
   "source": [
    "rm_1_0 = parse_output('rm_1_vazia')\n",
    "rm_10_0 = parse_output('rm_10_vazia')\n",
    "rm_30_0 = parse_output('rm_30_vazia')\n",
    "rm_1_10 = parse_output('rm_1_10')\n",
    "rm_10_10 = parse_output('rm_10_10')\n",
    "rm_30_10 = parse_output('rm_30_10')\n",
    "rm_1_50 = parse_output('rm_1_50')\n",
    "rm_10_50 = parse_output('rm_10_50')\n",
    "rm_30_50 = parse_output('rm_30_50')"
   ]
  },
  {
   "cell_type": "code",
   "execution_count": 24,
   "metadata": {},
   "outputs": [],
   "source": [
    "rmdir_vazios = parse_output('rmdir_vazios')\n",
    "rmdir_cheios = parse_output('rmdir_cheios')\n",
    "rmdir_10_vazios = parse_output('rmdir_10_vazios')\n",
    "rmdir_10_cheios = parse_output('rmdir_10_cheios')\n",
    "rmdir_50_vazios = parse_output('rmdir_50_vazios')\n",
    "#rmdir_50_cheios = parse_output('rmdir_cheios')"
   ]
  },
  {
   "cell_type": "code",
   "execution_count": null,
   "metadata": {},
   "outputs": [],
   "source": [
    "def create_plot(title, x_label, y_label, data):\n",
    "    if (len(data) != len(x_label)):\n",
    "        raise 'Data e y_label precisam ser listas com tamanhos iguais'\n",
    "        return\n",
    "    fig, ax = plt.subplots()\n",
    "    \n",
    "    plt.savefig(f'graf_{title}.png')\n",
    "    \n",
    "    \n"
   ]
  },
  {
   "cell_type": "code",
   "execution_count": null,
   "metadata": {},
   "outputs": [],
   "source": [
    "create_3plot('Cópia em unidade vazia', ['1MB', '10MB', '30MB'], 'Tempo médio', [copia_1_0, copia_10_0, copia_30_0])"
   ]
  },
  {
   "cell_type": "code",
   "execution_count": 31,
   "metadata": {},
   "outputs": [
    {
     "data": {
      "text/plain": [
       "0.45977985064188637"
      ]
     },
     "execution_count": 31,
     "metadata": {},
     "output_type": "execute_result"
    }
   ],
   "source": [
    "np.average(rmdir_cheios)"
   ]
  }
 ],
 "metadata": {
  "kernelspec": {
   "display_name": "Python 3",
   "language": "python",
   "name": "python3"
  },
  "language_info": {
   "codemirror_mode": {
    "name": "ipython",
    "version": 3
   },
   "file_extension": ".py",
   "mimetype": "text/x-python",
   "name": "python",
   "nbconvert_exporter": "python",
   "pygments_lexer": "ipython3",
   "version": "3.8.5"
  }
 },
 "nbformat": 4,
 "nbformat_minor": 4
}
